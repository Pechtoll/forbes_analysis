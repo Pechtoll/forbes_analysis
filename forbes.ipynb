{
 "cells": [
  {
   "cell_type": "markdown",
   "id": "054c40b3",
   "metadata": {},
   "source": [
    "# ANÁLISE DONOS DO MUNDO"
   ]
  },
  {
   "cell_type": "code",
   "execution_count": 22,
   "id": "eba210a0",
   "metadata": {},
   "outputs": [],
   "source": [
    "import pandas as pd\n",
    "import seaborn as sns \n",
    "import matplotlib.pyplot as plt"
   ]
  },
  {
   "cell_type": "code",
   "execution_count": 23,
   "id": "b093f64d",
   "metadata": {},
   "outputs": [],
   "source": [
    "df= pd.read_csv(r'C:\\Users\\Pichau\\Downloads\\.ipynb_checkpoints\\forbes_billionaires.csv').drop(columns=[\"Unnamed: 0\"])"
   ]
  },
  {
   "cell_type": "code",
   "execution_count": 24,
   "id": "c82df9f1",
   "metadata": {
    "scrolled": true
   },
   "outputs": [
    {
     "data": {
      "text/html": [
       "<div>\n",
       "<style scoped>\n",
       "    .dataframe tbody tr th:only-of-type {\n",
       "        vertical-align: middle;\n",
       "    }\n",
       "\n",
       "    .dataframe tbody tr th {\n",
       "        vertical-align: top;\n",
       "    }\n",
       "\n",
       "    .dataframe thead th {\n",
       "        text-align: right;\n",
       "    }\n",
       "</style>\n",
       "<table border=\"1\" class=\"dataframe\">\n",
       "  <thead>\n",
       "    <tr style=\"text-align: right;\">\n",
       "      <th></th>\n",
       "      <th>rank</th>\n",
       "      <th>name</th>\n",
       "      <th>networth</th>\n",
       "      <th>age</th>\n",
       "      <th>country</th>\n",
       "      <th>source</th>\n",
       "      <th>industry</th>\n",
       "    </tr>\n",
       "  </thead>\n",
       "  <tbody>\n",
       "    <tr>\n",
       "      <th>0</th>\n",
       "      <td>1</td>\n",
       "      <td>Elon Musk</td>\n",
       "      <td>$219 B</td>\n",
       "      <td>50</td>\n",
       "      <td>United States</td>\n",
       "      <td>Tesla, SpaceX</td>\n",
       "      <td>Automotive</td>\n",
       "    </tr>\n",
       "    <tr>\n",
       "      <th>1</th>\n",
       "      <td>2</td>\n",
       "      <td>Jeff Bezos</td>\n",
       "      <td>$171 B</td>\n",
       "      <td>58</td>\n",
       "      <td>United States</td>\n",
       "      <td>Amazon</td>\n",
       "      <td>Technology</td>\n",
       "    </tr>\n",
       "    <tr>\n",
       "      <th>2</th>\n",
       "      <td>3</td>\n",
       "      <td>Bernard Arnault &amp; family</td>\n",
       "      <td>$158 B</td>\n",
       "      <td>73</td>\n",
       "      <td>France</td>\n",
       "      <td>LVMH</td>\n",
       "      <td>Fashion &amp; Retail</td>\n",
       "    </tr>\n",
       "    <tr>\n",
       "      <th>3</th>\n",
       "      <td>4</td>\n",
       "      <td>Bill Gates</td>\n",
       "      <td>$129 B</td>\n",
       "      <td>66</td>\n",
       "      <td>United States</td>\n",
       "      <td>Microsoft</td>\n",
       "      <td>Technology</td>\n",
       "    </tr>\n",
       "    <tr>\n",
       "      <th>4</th>\n",
       "      <td>5</td>\n",
       "      <td>Warren Buffett</td>\n",
       "      <td>$118 B</td>\n",
       "      <td>91</td>\n",
       "      <td>United States</td>\n",
       "      <td>Berkshire Hathaway</td>\n",
       "      <td>Finance &amp; Investments</td>\n",
       "    </tr>\n",
       "  </tbody>\n",
       "</table>\n",
       "</div>"
      ],
      "text/plain": [
       "   rank                       name networth  age        country  \\\n",
       "0     1                 Elon Musk    $219 B   50  United States   \n",
       "1     2                Jeff Bezos    $171 B   58  United States   \n",
       "2     3  Bernard Arnault & family    $158 B   73         France   \n",
       "3     4                Bill Gates    $129 B   66  United States   \n",
       "4     5            Warren Buffett    $118 B   91  United States   \n",
       "\n",
       "               source                industry  \n",
       "0       Tesla, SpaceX             Automotive   \n",
       "1              Amazon             Technology   \n",
       "2                LVMH       Fashion & Retail   \n",
       "3           Microsoft             Technology   \n",
       "4  Berkshire Hathaway  Finance & Investments   "
      ]
     },
     "execution_count": 24,
     "metadata": {},
     "output_type": "execute_result"
    }
   ],
   "source": [
    "df.head()"
   ]
  },
  {
   "cell_type": "code",
   "execution_count": 25,
   "id": "e2f3f569",
   "metadata": {},
   "outputs": [
    {
     "data": {
      "text/html": [
       "<div>\n",
       "<style scoped>\n",
       "    .dataframe tbody tr th:only-of-type {\n",
       "        vertical-align: middle;\n",
       "    }\n",
       "\n",
       "    .dataframe tbody tr th {\n",
       "        vertical-align: top;\n",
       "    }\n",
       "\n",
       "    .dataframe thead th {\n",
       "        text-align: right;\n",
       "    }\n",
       "</style>\n",
       "<table border=\"1\" class=\"dataframe\">\n",
       "  <thead>\n",
       "    <tr style=\"text-align: right;\">\n",
       "      <th></th>\n",
       "      <th>rank</th>\n",
       "      <th>name</th>\n",
       "      <th>networth</th>\n",
       "      <th>age</th>\n",
       "      <th>country</th>\n",
       "      <th>source</th>\n",
       "      <th>industry</th>\n",
       "    </tr>\n",
       "  </thead>\n",
       "  <tbody>\n",
       "    <tr>\n",
       "      <th>0</th>\n",
       "      <td>1</td>\n",
       "      <td>Elon Musk</td>\n",
       "      <td>$219 B</td>\n",
       "      <td>50</td>\n",
       "      <td>United States</td>\n",
       "      <td>Tesla, SpaceX</td>\n",
       "      <td>Automotive</td>\n",
       "    </tr>\n",
       "    <tr>\n",
       "      <th>1</th>\n",
       "      <td>2</td>\n",
       "      <td>Jeff Bezos</td>\n",
       "      <td>$171 B</td>\n",
       "      <td>58</td>\n",
       "      <td>United States</td>\n",
       "      <td>Amazon</td>\n",
       "      <td>Technology</td>\n",
       "    </tr>\n",
       "    <tr>\n",
       "      <th>2</th>\n",
       "      <td>3</td>\n",
       "      <td>Bernard Arnault &amp; family</td>\n",
       "      <td>$158 B</td>\n",
       "      <td>73</td>\n",
       "      <td>France</td>\n",
       "      <td>LVMH</td>\n",
       "      <td>Fashion &amp; Retail</td>\n",
       "    </tr>\n",
       "    <tr>\n",
       "      <th>3</th>\n",
       "      <td>4</td>\n",
       "      <td>Bill Gates</td>\n",
       "      <td>$129 B</td>\n",
       "      <td>66</td>\n",
       "      <td>United States</td>\n",
       "      <td>Microsoft</td>\n",
       "      <td>Technology</td>\n",
       "    </tr>\n",
       "    <tr>\n",
       "      <th>4</th>\n",
       "      <td>5</td>\n",
       "      <td>Warren Buffett</td>\n",
       "      <td>$118 B</td>\n",
       "      <td>91</td>\n",
       "      <td>United States</td>\n",
       "      <td>Berkshire Hathaway</td>\n",
       "      <td>Finance &amp; Investments</td>\n",
       "    </tr>\n",
       "    <tr>\n",
       "      <th>...</th>\n",
       "      <td>...</td>\n",
       "      <td>...</td>\n",
       "      <td>...</td>\n",
       "      <td>...</td>\n",
       "      <td>...</td>\n",
       "      <td>...</td>\n",
       "      <td>...</td>\n",
       "    </tr>\n",
       "    <tr>\n",
       "      <th>2595</th>\n",
       "      <td>2578</td>\n",
       "      <td>Jorge Gallardo Ballart</td>\n",
       "      <td>$1 B</td>\n",
       "      <td>80</td>\n",
       "      <td>Spain</td>\n",
       "      <td>pharmaceuticals</td>\n",
       "      <td>Healthcare</td>\n",
       "    </tr>\n",
       "    <tr>\n",
       "      <th>2596</th>\n",
       "      <td>2578</td>\n",
       "      <td>Nari Genomal</td>\n",
       "      <td>$1 B</td>\n",
       "      <td>82</td>\n",
       "      <td>Philippines</td>\n",
       "      <td>apparel</td>\n",
       "      <td>Fashion &amp; Retail</td>\n",
       "    </tr>\n",
       "    <tr>\n",
       "      <th>2597</th>\n",
       "      <td>2578</td>\n",
       "      <td>Ramesh Genomal</td>\n",
       "      <td>$1 B</td>\n",
       "      <td>71</td>\n",
       "      <td>Philippines</td>\n",
       "      <td>apparel</td>\n",
       "      <td>Fashion &amp; Retail</td>\n",
       "    </tr>\n",
       "    <tr>\n",
       "      <th>2598</th>\n",
       "      <td>2578</td>\n",
       "      <td>Sunder Genomal</td>\n",
       "      <td>$1 B</td>\n",
       "      <td>68</td>\n",
       "      <td>Philippines</td>\n",
       "      <td>garments</td>\n",
       "      <td>Fashion &amp; Retail</td>\n",
       "    </tr>\n",
       "    <tr>\n",
       "      <th>2599</th>\n",
       "      <td>2578</td>\n",
       "      <td>Horst-Otto Gerberding</td>\n",
       "      <td>$1 B</td>\n",
       "      <td>69</td>\n",
       "      <td>Germany</td>\n",
       "      <td>flavors and fragrances</td>\n",
       "      <td>Food &amp; Beverage</td>\n",
       "    </tr>\n",
       "  </tbody>\n",
       "</table>\n",
       "<p>2600 rows × 7 columns</p>\n",
       "</div>"
      ],
      "text/plain": [
       "      rank                       name networth  age        country  \\\n",
       "0        1                 Elon Musk    $219 B   50  United States   \n",
       "1        2                Jeff Bezos    $171 B   58  United States   \n",
       "2        3  Bernard Arnault & family    $158 B   73         France   \n",
       "3        4                Bill Gates    $129 B   66  United States   \n",
       "4        5            Warren Buffett    $118 B   91  United States   \n",
       "...    ...                        ...      ...  ...            ...   \n",
       "2595  2578    Jorge Gallardo Ballart      $1 B   80          Spain   \n",
       "2596  2578              Nari Genomal      $1 B   82    Philippines   \n",
       "2597  2578            Ramesh Genomal      $1 B   71    Philippines   \n",
       "2598  2578            Sunder Genomal      $1 B   68    Philippines   \n",
       "2599  2578     Horst-Otto Gerberding      $1 B   69        Germany   \n",
       "\n",
       "                      source                industry  \n",
       "0              Tesla, SpaceX             Automotive   \n",
       "1                     Amazon             Technology   \n",
       "2                       LVMH       Fashion & Retail   \n",
       "3                  Microsoft             Technology   \n",
       "4         Berkshire Hathaway  Finance & Investments   \n",
       "...                      ...                     ...  \n",
       "2595         pharmaceuticals             Healthcare   \n",
       "2596                 apparel       Fashion & Retail   \n",
       "2597                 apparel       Fashion & Retail   \n",
       "2598                garments       Fashion & Retail   \n",
       "2599  flavors and fragrances        Food & Beverage   \n",
       "\n",
       "[2600 rows x 7 columns]"
      ]
     },
     "metadata": {},
     "output_type": "display_data"
    }
   ],
   "source": [
    "display(df)"
   ]
  },
  {
   "cell_type": "code",
   "execution_count": 27,
   "id": "ed135e75",
   "metadata": {
    "scrolled": false
   },
   "outputs": [],
   "source": [
    "lista = []\n",
    "for i in df['networth']:\n",
    "    lista.append(i[1:-2])\n",
    "    \n",
    "df[\"networth\"]=lista\n",
    "\n",
    "df[\"networth\"]=df['networth'].astype(\"object\")\n"
   ]
  },
  {
   "cell_type": "code",
   "execution_count": 29,
   "id": "7963e6cc",
   "metadata": {},
   "outputs": [
    {
     "data": {
      "text/plain": [
       "0      219\n",
       "1      171\n",
       "2      158\n",
       "3      129\n",
       "4      118\n",
       "5      111\n",
       "6      107\n",
       "7      106\n",
       "8     91.4\n",
       "9     90.7\n",
       "10      90\n",
       "11      82\n",
       "12    81.2\n",
       "13    74.8\n",
       "14    67.3\n",
       "15    66.2\n",
       "16    65.7\n",
       "17    65.3\n",
       "18      65\n",
       "19      65\n",
       "20      60\n",
       "21      60\n",
       "22    59.6\n",
       "23    55.1\n",
       "24      50\n",
       "Name: networth, dtype: object"
      ]
     },
     "execution_count": 29,
     "metadata": {},
     "output_type": "execute_result"
    }
   ],
   "source": [
    "df[\"networth\"][0:25]"
   ]
  },
  {
   "cell_type": "code",
   "execution_count": 30,
   "id": "f1535629",
   "metadata": {},
   "outputs": [
    {
     "data": {
      "text/plain": [
       "rank         int64\n",
       "name        object\n",
       "networth    object\n",
       "age          int64\n",
       "country     object\n",
       "source      object\n",
       "industry    object\n",
       "dtype: object"
      ]
     },
     "execution_count": 30,
     "metadata": {},
     "output_type": "execute_result"
    }
   ],
   "source": [
    "df.dtypes"
   ]
  },
  {
   "cell_type": "code",
   "execution_count": 21,
   "id": "1c48e122",
   "metadata": {},
   "outputs": [
    {
     "name": "stdout",
     "output_type": "stream",
     "text": [
      "<class 'pandas.core.frame.DataFrame'>\n",
      "RangeIndex: 2600 entries, 0 to 2599\n",
      "Data columns (total 7 columns):\n",
      " #   Column    Non-Null Count  Dtype \n",
      "---  ------    --------------  ----- \n",
      " 0   rank      2600 non-null   int64 \n",
      " 1   name      2600 non-null   object\n",
      " 2   networth  2600 non-null   object\n",
      " 3   age       2600 non-null   int64 \n",
      " 4   country   2600 non-null   object\n",
      " 5   source    2600 non-null   object\n",
      " 6   industry  2600 non-null   object\n",
      "dtypes: int64(2), object(5)\n",
      "memory usage: 142.3+ KB\n"
     ]
    }
   ],
   "source": [
    "df.info()"
   ]
  },
  {
   "cell_type": "code",
   "execution_count": 14,
   "id": "77803ca4",
   "metadata": {},
   "outputs": [
    {
     "data": {
      "text/html": [
       "<div>\n",
       "<style scoped>\n",
       "    .dataframe tbody tr th:only-of-type {\n",
       "        vertical-align: middle;\n",
       "    }\n",
       "\n",
       "    .dataframe tbody tr th {\n",
       "        vertical-align: top;\n",
       "    }\n",
       "\n",
       "    .dataframe thead th {\n",
       "        text-align: right;\n",
       "    }\n",
       "</style>\n",
       "<table border=\"1\" class=\"dataframe\">\n",
       "  <thead>\n",
       "    <tr style=\"text-align: right;\">\n",
       "      <th></th>\n",
       "      <th>rank</th>\n",
       "      <th>networth</th>\n",
       "      <th>age</th>\n",
       "    </tr>\n",
       "  </thead>\n",
       "  <tbody>\n",
       "    <tr>\n",
       "      <th>count</th>\n",
       "      <td>2600.000000</td>\n",
       "      <td>2600.000000</td>\n",
       "      <td>2600.000000</td>\n",
       "    </tr>\n",
       "    <tr>\n",
       "      <th>mean</th>\n",
       "      <td>1269.570769</td>\n",
       "      <td>4.860750</td>\n",
       "      <td>64.271923</td>\n",
       "    </tr>\n",
       "    <tr>\n",
       "      <th>std</th>\n",
       "      <td>728.146364</td>\n",
       "      <td>10.659671</td>\n",
       "      <td>13.220607</td>\n",
       "    </tr>\n",
       "    <tr>\n",
       "      <th>min</th>\n",
       "      <td>1.000000</td>\n",
       "      <td>1.000000</td>\n",
       "      <td>19.000000</td>\n",
       "    </tr>\n",
       "    <tr>\n",
       "      <th>25%</th>\n",
       "      <td>637.000000</td>\n",
       "      <td>1.500000</td>\n",
       "      <td>55.000000</td>\n",
       "    </tr>\n",
       "    <tr>\n",
       "      <th>50%</th>\n",
       "      <td>1292.000000</td>\n",
       "      <td>2.400000</td>\n",
       "      <td>64.000000</td>\n",
       "    </tr>\n",
       "    <tr>\n",
       "      <th>75%</th>\n",
       "      <td>1929.000000</td>\n",
       "      <td>4.500000</td>\n",
       "      <td>74.000000</td>\n",
       "    </tr>\n",
       "    <tr>\n",
       "      <th>max</th>\n",
       "      <td>2578.000000</td>\n",
       "      <td>219.000000</td>\n",
       "      <td>100.000000</td>\n",
       "    </tr>\n",
       "  </tbody>\n",
       "</table>\n",
       "</div>"
      ],
      "text/plain": [
       "              rank     networth          age\n",
       "count  2600.000000  2600.000000  2600.000000\n",
       "mean   1269.570769     4.860750    64.271923\n",
       "std     728.146364    10.659671    13.220607\n",
       "min       1.000000     1.000000    19.000000\n",
       "25%     637.000000     1.500000    55.000000\n",
       "50%    1292.000000     2.400000    64.000000\n",
       "75%    1929.000000     4.500000    74.000000\n",
       "max    2578.000000   219.000000   100.000000"
      ]
     },
     "execution_count": 14,
     "metadata": {},
     "output_type": "execute_result"
    }
   ],
   "source": [
    "df.describe()"
   ]
  },
  {
   "cell_type": "code",
   "execution_count": 15,
   "id": "adde4431",
   "metadata": {},
   "outputs": [
    {
     "data": {
      "text/html": [
       "<div>\n",
       "<style scoped>\n",
       "    .dataframe tbody tr th:only-of-type {\n",
       "        vertical-align: middle;\n",
       "    }\n",
       "\n",
       "    .dataframe tbody tr th {\n",
       "        vertical-align: top;\n",
       "    }\n",
       "\n",
       "    .dataframe thead th {\n",
       "        text-align: right;\n",
       "    }\n",
       "</style>\n",
       "<table border=\"1\" class=\"dataframe\">\n",
       "  <thead>\n",
       "    <tr style=\"text-align: right;\">\n",
       "      <th></th>\n",
       "      <th>name</th>\n",
       "      <th>country</th>\n",
       "      <th>source</th>\n",
       "      <th>industry</th>\n",
       "    </tr>\n",
       "  </thead>\n",
       "  <tbody>\n",
       "    <tr>\n",
       "      <th>count</th>\n",
       "      <td>2600</td>\n",
       "      <td>2600</td>\n",
       "      <td>2600</td>\n",
       "      <td>2600</td>\n",
       "    </tr>\n",
       "    <tr>\n",
       "      <th>unique</th>\n",
       "      <td>2598</td>\n",
       "      <td>75</td>\n",
       "      <td>895</td>\n",
       "      <td>18</td>\n",
       "    </tr>\n",
       "    <tr>\n",
       "      <th>top</th>\n",
       "      <td>Wang Yanqing &amp; family</td>\n",
       "      <td>United States</td>\n",
       "      <td>real estate</td>\n",
       "      <td>Finance &amp; Investments</td>\n",
       "    </tr>\n",
       "    <tr>\n",
       "      <th>freq</th>\n",
       "      <td>2</td>\n",
       "      <td>719</td>\n",
       "      <td>148</td>\n",
       "      <td>386</td>\n",
       "    </tr>\n",
       "  </tbody>\n",
       "</table>\n",
       "</div>"
      ],
      "text/plain": [
       "                          name        country       source  \\\n",
       "count                     2600           2600         2600   \n",
       "unique                    2598             75          895   \n",
       "top     Wang Yanqing & family   United States  real estate   \n",
       "freq                         2            719          148   \n",
       "\n",
       "                      industry  \n",
       "count                     2600  \n",
       "unique                      18  \n",
       "top     Finance & Investments   \n",
       "freq                       386  "
      ]
     },
     "execution_count": 15,
     "metadata": {},
     "output_type": "execute_result"
    }
   ],
   "source": [
    "df.describe(include= [\"O\"])"
   ]
  },
  {
   "cell_type": "code",
   "execution_count": 16,
   "id": "a2f41d18",
   "metadata": {},
   "outputs": [
    {
     "data": {
      "text/plain": [
       "dtype('float64')"
      ]
     },
     "execution_count": 16,
     "metadata": {},
     "output_type": "execute_result"
    }
   ],
   "source": [
    "df[\"networth\"].dtypes"
   ]
  },
  {
   "cell_type": "code",
   "execution_count": 17,
   "id": "2abd8261",
   "metadata": {},
   "outputs": [],
   "source": [
    "lista =[]\n",
    "\n",
    "for x in df[\"networth\"]:\n",
    "    \n",
    "    if x >= 100:\n",
    "        lista.append(\"elite altissima\")\n",
    "    \n",
    "    elif x >= 50:\n",
    "        lista.append(\"elite alta\")\n",
    "        \n",
    "    elif x >= 25:\n",
    "        lista.append(\"elite media\")\n",
    "        \n",
    "    elif x > 0:\n",
    "        lista.append(\"elite baixa\")\n",
    "    \n",
    "    else:\n",
    "        lista.append(\"0\") \n",
    "\n",
    "        \n",
    "df[\"faixa monetária\"]=lista"
   ]
  },
  {
   "cell_type": "code",
   "execution_count": 18,
   "id": "c01a1b6d",
   "metadata": {},
   "outputs": [
    {
     "data": {
      "text/plain": [
       "1.0"
      ]
     },
     "execution_count": 18,
     "metadata": {},
     "output_type": "execute_result"
    }
   ],
   "source": [
    "df[\"networth\"].min()"
   ]
  },
  {
   "cell_type": "code",
   "execution_count": 19,
   "id": "196bc5de",
   "metadata": {
    "scrolled": true
   },
   "outputs": [
    {
     "data": {
      "text/html": [
       "<div>\n",
       "<style scoped>\n",
       "    .dataframe tbody tr th:only-of-type {\n",
       "        vertical-align: middle;\n",
       "    }\n",
       "\n",
       "    .dataframe tbody tr th {\n",
       "        vertical-align: top;\n",
       "    }\n",
       "\n",
       "    .dataframe thead th {\n",
       "        text-align: right;\n",
       "    }\n",
       "</style>\n",
       "<table border=\"1\" class=\"dataframe\">\n",
       "  <thead>\n",
       "    <tr style=\"text-align: right;\">\n",
       "      <th></th>\n",
       "      <th>Qtde pessoas</th>\n",
       "      <th>porcentagem</th>\n",
       "    </tr>\n",
       "  </thead>\n",
       "  <tbody>\n",
       "    <tr>\n",
       "      <th>elite baixa</th>\n",
       "      <td>2545</td>\n",
       "      <td>97.884615</td>\n",
       "    </tr>\n",
       "    <tr>\n",
       "      <th>elite media</th>\n",
       "      <td>30</td>\n",
       "      <td>1.153846</td>\n",
       "    </tr>\n",
       "    <tr>\n",
       "      <th>elite alta</th>\n",
       "      <td>17</td>\n",
       "      <td>0.653846</td>\n",
       "    </tr>\n",
       "    <tr>\n",
       "      <th>elite altissima</th>\n",
       "      <td>8</td>\n",
       "      <td>0.307692</td>\n",
       "    </tr>\n",
       "  </tbody>\n",
       "</table>\n",
       "</div>"
      ],
      "text/plain": [
       "                 Qtde pessoas  porcentagem\n",
       "elite baixa              2545    97.884615\n",
       "elite media                30     1.153846\n",
       "elite alta                 17     0.653846\n",
       "elite altissima             8     0.307692"
      ]
     },
     "execution_count": 19,
     "metadata": {},
     "output_type": "execute_result"
    }
   ],
   "source": [
    "a = df[\"faixa monetária\"].value_counts() \n",
    "b = df[\"faixa monetária\"].value_counts(normalize=True)*100\n",
    "pd.concat([a, b], axis= 1, keys=[\"Qtde pessoas\", \"porcentagem\"])"
   ]
  },
  {
   "cell_type": "code",
   "execution_count": 20,
   "id": "71ffbebf",
   "metadata": {},
   "outputs": [
    {
     "data": {
      "text/html": [
       "<div>\n",
       "<style scoped>\n",
       "    .dataframe tbody tr th:only-of-type {\n",
       "        vertical-align: middle;\n",
       "    }\n",
       "\n",
       "    .dataframe tbody tr th {\n",
       "        vertical-align: top;\n",
       "    }\n",
       "\n",
       "    .dataframe thead th {\n",
       "        text-align: right;\n",
       "    }\n",
       "</style>\n",
       "<table border=\"1\" class=\"dataframe\">\n",
       "  <thead>\n",
       "    <tr style=\"text-align: right;\">\n",
       "      <th></th>\n",
       "      <th>faixa monetária</th>\n",
       "    </tr>\n",
       "  </thead>\n",
       "  <tbody>\n",
       "    <tr>\n",
       "      <th>elite baixa</th>\n",
       "      <td>2545</td>\n",
       "    </tr>\n",
       "    <tr>\n",
       "      <th>elite media</th>\n",
       "      <td>30</td>\n",
       "    </tr>\n",
       "    <tr>\n",
       "      <th>elite alta</th>\n",
       "      <td>17</td>\n",
       "    </tr>\n",
       "    <tr>\n",
       "      <th>elite altissima</th>\n",
       "      <td>8</td>\n",
       "    </tr>\n",
       "  </tbody>\n",
       "</table>\n",
       "</div>"
      ],
      "text/plain": [
       "                 faixa monetária\n",
       "elite baixa                 2545\n",
       "elite media                   30\n",
       "elite alta                    17\n",
       "elite altissima                8"
      ]
     },
     "execution_count": 20,
     "metadata": {},
     "output_type": "execute_result"
    }
   ],
   "source": [
    "y =df[\"faixa monetária\"].value_counts().to_frame()\n",
    "y"
   ]
  },
  {
   "cell_type": "code",
   "execution_count": 21,
   "id": "7f0b4b25",
   "metadata": {
    "scrolled": true
   },
   "outputs": [
    {
     "data": {
      "text/html": [
       "<div>\n",
       "<style scoped>\n",
       "    .dataframe tbody tr th:only-of-type {\n",
       "        vertical-align: middle;\n",
       "    }\n",
       "\n",
       "    .dataframe tbody tr th {\n",
       "        vertical-align: top;\n",
       "    }\n",
       "\n",
       "    .dataframe thead th {\n",
       "        text-align: right;\n",
       "    }\n",
       "</style>\n",
       "<table border=\"1\" class=\"dataframe\">\n",
       "  <thead>\n",
       "    <tr style=\"text-align: right;\">\n",
       "      <th></th>\n",
       "      <th>faixa monetária</th>\n",
       "    </tr>\n",
       "  </thead>\n",
       "  <tbody>\n",
       "    <tr>\n",
       "      <th>elite baixa</th>\n",
       "      <td>97.884615</td>\n",
       "    </tr>\n",
       "    <tr>\n",
       "      <th>elite media</th>\n",
       "      <td>1.153846</td>\n",
       "    </tr>\n",
       "    <tr>\n",
       "      <th>elite alta</th>\n",
       "      <td>0.653846</td>\n",
       "    </tr>\n",
       "    <tr>\n",
       "      <th>elite altissima</th>\n",
       "      <td>0.307692</td>\n",
       "    </tr>\n",
       "  </tbody>\n",
       "</table>\n",
       "</div>"
      ],
      "text/plain": [
       "                 faixa monetária\n",
       "elite baixa            97.884615\n",
       "elite media             1.153846\n",
       "elite alta              0.653846\n",
       "elite altissima         0.307692"
      ]
     },
     "execution_count": 21,
     "metadata": {},
     "output_type": "execute_result"
    }
   ],
   "source": [
    "g =df[\"faixa monetária\"].value_counts(normalize=True).to_frame()*100\n",
    "g"
   ]
  },
  {
   "cell_type": "code",
   "execution_count": 22,
   "id": "ca0e99ad",
   "metadata": {},
   "outputs": [
    {
     "data": {
      "text/html": [
       "<div>\n",
       "<style scoped>\n",
       "    .dataframe tbody tr th:only-of-type {\n",
       "        vertical-align: middle;\n",
       "    }\n",
       "\n",
       "    .dataframe tbody tr th {\n",
       "        vertical-align: top;\n",
       "    }\n",
       "\n",
       "    .dataframe thead th {\n",
       "        text-align: right;\n",
       "    }\n",
       "</style>\n",
       "<table border=\"1\" class=\"dataframe\">\n",
       "  <thead>\n",
       "    <tr style=\"text-align: right;\">\n",
       "      <th></th>\n",
       "      <th>faixa monetária</th>\n",
       "      <th>faixa monetária</th>\n",
       "    </tr>\n",
       "  </thead>\n",
       "  <tbody>\n",
       "    <tr>\n",
       "      <th>elite baixa</th>\n",
       "      <td>2545</td>\n",
       "      <td>97.884615</td>\n",
       "    </tr>\n",
       "    <tr>\n",
       "      <th>elite media</th>\n",
       "      <td>30</td>\n",
       "      <td>1.153846</td>\n",
       "    </tr>\n",
       "    <tr>\n",
       "      <th>elite alta</th>\n",
       "      <td>17</td>\n",
       "      <td>0.653846</td>\n",
       "    </tr>\n",
       "    <tr>\n",
       "      <th>elite altissima</th>\n",
       "      <td>8</td>\n",
       "      <td>0.307692</td>\n",
       "    </tr>\n",
       "  </tbody>\n",
       "</table>\n",
       "</div>"
      ],
      "text/plain": [
       "                 faixa monetária  faixa monetária\n",
       "elite baixa                 2545        97.884615\n",
       "elite media                   30         1.153846\n",
       "elite alta                    17         0.653846\n",
       "elite altissima                8         0.307692"
      ]
     },
     "execution_count": 22,
     "metadata": {},
     "output_type": "execute_result"
    }
   ],
   "source": [
    "pd.concat([y, g], axis = 1)"
   ]
  },
  {
   "cell_type": "code",
   "execution_count": 23,
   "id": "0bd23532",
   "metadata": {},
   "outputs": [
    {
     "data": {
      "text/html": [
       "<div>\n",
       "<style scoped>\n",
       "    .dataframe tbody tr th:only-of-type {\n",
       "        vertical-align: middle;\n",
       "    }\n",
       "\n",
       "    .dataframe tbody tr th {\n",
       "        vertical-align: top;\n",
       "    }\n",
       "\n",
       "    .dataframe thead th {\n",
       "        text-align: right;\n",
       "    }\n",
       "</style>\n",
       "<table border=\"1\" class=\"dataframe\">\n",
       "  <thead>\n",
       "    <tr style=\"text-align: right;\">\n",
       "      <th></th>\n",
       "      <th>rank</th>\n",
       "      <th>name</th>\n",
       "      <th>networth</th>\n",
       "      <th>age</th>\n",
       "      <th>country</th>\n",
       "      <th>source</th>\n",
       "      <th>industry</th>\n",
       "      <th>faixa monetária</th>\n",
       "    </tr>\n",
       "  </thead>\n",
       "  <tbody>\n",
       "    <tr>\n",
       "      <th>0</th>\n",
       "      <td>1</td>\n",
       "      <td>Elon Musk</td>\n",
       "      <td>219.0</td>\n",
       "      <td>50</td>\n",
       "      <td>United States</td>\n",
       "      <td>Tesla, SpaceX</td>\n",
       "      <td>Automotive</td>\n",
       "      <td>elite altissima</td>\n",
       "    </tr>\n",
       "    <tr>\n",
       "      <th>1</th>\n",
       "      <td>2</td>\n",
       "      <td>Jeff Bezos</td>\n",
       "      <td>171.0</td>\n",
       "      <td>58</td>\n",
       "      <td>United States</td>\n",
       "      <td>Amazon</td>\n",
       "      <td>Technology</td>\n",
       "      <td>elite altissima</td>\n",
       "    </tr>\n",
       "    <tr>\n",
       "      <th>2</th>\n",
       "      <td>3</td>\n",
       "      <td>Bernard Arnault &amp; family</td>\n",
       "      <td>158.0</td>\n",
       "      <td>73</td>\n",
       "      <td>France</td>\n",
       "      <td>LVMH</td>\n",
       "      <td>Fashion &amp; Retail</td>\n",
       "      <td>elite altissima</td>\n",
       "    </tr>\n",
       "    <tr>\n",
       "      <th>3</th>\n",
       "      <td>4</td>\n",
       "      <td>Bill Gates</td>\n",
       "      <td>129.0</td>\n",
       "      <td>66</td>\n",
       "      <td>United States</td>\n",
       "      <td>Microsoft</td>\n",
       "      <td>Technology</td>\n",
       "      <td>elite altissima</td>\n",
       "    </tr>\n",
       "    <tr>\n",
       "      <th>4</th>\n",
       "      <td>5</td>\n",
       "      <td>Warren Buffett</td>\n",
       "      <td>118.0</td>\n",
       "      <td>91</td>\n",
       "      <td>United States</td>\n",
       "      <td>Berkshire Hathaway</td>\n",
       "      <td>Finance &amp; Investments</td>\n",
       "      <td>elite altissima</td>\n",
       "    </tr>\n",
       "    <tr>\n",
       "      <th>5</th>\n",
       "      <td>6</td>\n",
       "      <td>Larry Page</td>\n",
       "      <td>111.0</td>\n",
       "      <td>49</td>\n",
       "      <td>United States</td>\n",
       "      <td>Google</td>\n",
       "      <td>Technology</td>\n",
       "      <td>elite altissima</td>\n",
       "    </tr>\n",
       "    <tr>\n",
       "      <th>6</th>\n",
       "      <td>7</td>\n",
       "      <td>Sergey Brin</td>\n",
       "      <td>107.0</td>\n",
       "      <td>48</td>\n",
       "      <td>United States</td>\n",
       "      <td>Google</td>\n",
       "      <td>Technology</td>\n",
       "      <td>elite altissima</td>\n",
       "    </tr>\n",
       "    <tr>\n",
       "      <th>7</th>\n",
       "      <td>8</td>\n",
       "      <td>Larry Ellison</td>\n",
       "      <td>106.0</td>\n",
       "      <td>77</td>\n",
       "      <td>United States</td>\n",
       "      <td>software</td>\n",
       "      <td>Technology</td>\n",
       "      <td>elite altissima</td>\n",
       "    </tr>\n",
       "    <tr>\n",
       "      <th>8</th>\n",
       "      <td>9</td>\n",
       "      <td>Steve Ballmer</td>\n",
       "      <td>91.4</td>\n",
       "      <td>66</td>\n",
       "      <td>United States</td>\n",
       "      <td>Microsoft</td>\n",
       "      <td>Technology</td>\n",
       "      <td>elite alta</td>\n",
       "    </tr>\n",
       "    <tr>\n",
       "      <th>9</th>\n",
       "      <td>10</td>\n",
       "      <td>Mukesh Ambani</td>\n",
       "      <td>90.7</td>\n",
       "      <td>64</td>\n",
       "      <td>India</td>\n",
       "      <td>diversified</td>\n",
       "      <td>Diversified</td>\n",
       "      <td>elite alta</td>\n",
       "    </tr>\n",
       "    <tr>\n",
       "      <th>10</th>\n",
       "      <td>11</td>\n",
       "      <td>Gautam Adani &amp; family</td>\n",
       "      <td>90.0</td>\n",
       "      <td>59</td>\n",
       "      <td>India</td>\n",
       "      <td>infrastructure, commodities</td>\n",
       "      <td>Diversified</td>\n",
       "      <td>elite alta</td>\n",
       "    </tr>\n",
       "    <tr>\n",
       "      <th>11</th>\n",
       "      <td>12</td>\n",
       "      <td>Michael Bloomberg</td>\n",
       "      <td>82.0</td>\n",
       "      <td>80</td>\n",
       "      <td>United States</td>\n",
       "      <td>Bloomberg LP</td>\n",
       "      <td>Media &amp; Entertainment</td>\n",
       "      <td>elite alta</td>\n",
       "    </tr>\n",
       "    <tr>\n",
       "      <th>12</th>\n",
       "      <td>13</td>\n",
       "      <td>Carlos Slim Helu &amp; family</td>\n",
       "      <td>81.2</td>\n",
       "      <td>82</td>\n",
       "      <td>Mexico</td>\n",
       "      <td>telecom</td>\n",
       "      <td>Telecom</td>\n",
       "      <td>elite alta</td>\n",
       "    </tr>\n",
       "    <tr>\n",
       "      <th>13</th>\n",
       "      <td>14</td>\n",
       "      <td>Francoise Bettencourt Meyers &amp; family</td>\n",
       "      <td>74.8</td>\n",
       "      <td>68</td>\n",
       "      <td>France</td>\n",
       "      <td>L'Oréal</td>\n",
       "      <td>Fashion &amp; Retail</td>\n",
       "      <td>elite alta</td>\n",
       "    </tr>\n",
       "    <tr>\n",
       "      <th>14</th>\n",
       "      <td>15</td>\n",
       "      <td>Mark Zuckerberg</td>\n",
       "      <td>67.3</td>\n",
       "      <td>37</td>\n",
       "      <td>United States</td>\n",
       "      <td>Facebook</td>\n",
       "      <td>Technology</td>\n",
       "      <td>elite alta</td>\n",
       "    </tr>\n",
       "    <tr>\n",
       "      <th>15</th>\n",
       "      <td>16</td>\n",
       "      <td>Jim Walton</td>\n",
       "      <td>66.2</td>\n",
       "      <td>73</td>\n",
       "      <td>United States</td>\n",
       "      <td>Walmart</td>\n",
       "      <td>Fashion &amp; Retail</td>\n",
       "      <td>elite alta</td>\n",
       "    </tr>\n",
       "    <tr>\n",
       "      <th>16</th>\n",
       "      <td>17</td>\n",
       "      <td>Zhong Shanshan</td>\n",
       "      <td>65.7</td>\n",
       "      <td>67</td>\n",
       "      <td>China</td>\n",
       "      <td>beverages, pharmaceuticals</td>\n",
       "      <td>Food &amp; Beverage</td>\n",
       "      <td>elite alta</td>\n",
       "    </tr>\n",
       "    <tr>\n",
       "      <th>17</th>\n",
       "      <td>18</td>\n",
       "      <td>Alice Walton</td>\n",
       "      <td>65.3</td>\n",
       "      <td>72</td>\n",
       "      <td>United States</td>\n",
       "      <td>Walmart</td>\n",
       "      <td>Fashion &amp; Retail</td>\n",
       "      <td>elite alta</td>\n",
       "    </tr>\n",
       "    <tr>\n",
       "      <th>18</th>\n",
       "      <td>19</td>\n",
       "      <td>Rob Walton</td>\n",
       "      <td>65.0</td>\n",
       "      <td>77</td>\n",
       "      <td>United States</td>\n",
       "      <td>Walmart</td>\n",
       "      <td>Fashion &amp; Retail</td>\n",
       "      <td>elite alta</td>\n",
       "    </tr>\n",
       "    <tr>\n",
       "      <th>19</th>\n",
       "      <td>19</td>\n",
       "      <td>Changpeng Zhao</td>\n",
       "      <td>65.0</td>\n",
       "      <td>44</td>\n",
       "      <td>Canada</td>\n",
       "      <td>cryptocurrency exchange</td>\n",
       "      <td>Finance &amp; Investments</td>\n",
       "      <td>elite alta</td>\n",
       "    </tr>\n",
       "    <tr>\n",
       "      <th>20</th>\n",
       "      <td>21</td>\n",
       "      <td>Charles Koch</td>\n",
       "      <td>60.0</td>\n",
       "      <td>86</td>\n",
       "      <td>United States</td>\n",
       "      <td>Koch Industries</td>\n",
       "      <td>Diversified</td>\n",
       "      <td>elite alta</td>\n",
       "    </tr>\n",
       "    <tr>\n",
       "      <th>21</th>\n",
       "      <td>21</td>\n",
       "      <td>Julia Koch &amp; family</td>\n",
       "      <td>60.0</td>\n",
       "      <td>59</td>\n",
       "      <td>United States</td>\n",
       "      <td>Koch Industries</td>\n",
       "      <td>Diversified</td>\n",
       "      <td>elite alta</td>\n",
       "    </tr>\n",
       "    <tr>\n",
       "      <th>22</th>\n",
       "      <td>23</td>\n",
       "      <td>Amancio Ortega</td>\n",
       "      <td>59.6</td>\n",
       "      <td>86</td>\n",
       "      <td>Spain</td>\n",
       "      <td>Zara</td>\n",
       "      <td>Fashion &amp; Retail</td>\n",
       "      <td>elite alta</td>\n",
       "    </tr>\n",
       "    <tr>\n",
       "      <th>23</th>\n",
       "      <td>24</td>\n",
       "      <td>Michael Dell</td>\n",
       "      <td>55.1</td>\n",
       "      <td>57</td>\n",
       "      <td>United States</td>\n",
       "      <td>Dell computers</td>\n",
       "      <td>Technology</td>\n",
       "      <td>elite alta</td>\n",
       "    </tr>\n",
       "    <tr>\n",
       "      <th>24</th>\n",
       "      <td>25</td>\n",
       "      <td>Zhang Yiming</td>\n",
       "      <td>50.0</td>\n",
       "      <td>38</td>\n",
       "      <td>China</td>\n",
       "      <td>TikTok</td>\n",
       "      <td>Media &amp; Entertainment</td>\n",
       "      <td>elite alta</td>\n",
       "    </tr>\n",
       "    <tr>\n",
       "      <th>25</th>\n",
       "      <td>26</td>\n",
       "      <td>David Thomson &amp; family</td>\n",
       "      <td>49.2</td>\n",
       "      <td>64</td>\n",
       "      <td>Canada</td>\n",
       "      <td>media</td>\n",
       "      <td>Media &amp; Entertainment</td>\n",
       "      <td>elite media</td>\n",
       "    </tr>\n",
       "    <tr>\n",
       "      <th>26</th>\n",
       "      <td>27</td>\n",
       "      <td>Phil Knight &amp; family</td>\n",
       "      <td>47.3</td>\n",
       "      <td>84</td>\n",
       "      <td>United States</td>\n",
       "      <td>Nike</td>\n",
       "      <td>Fashion &amp; Retail</td>\n",
       "      <td>elite media</td>\n",
       "    </tr>\n",
       "    <tr>\n",
       "      <th>27</th>\n",
       "      <td>28</td>\n",
       "      <td>Dieter Schwarz</td>\n",
       "      <td>47.1</td>\n",
       "      <td>82</td>\n",
       "      <td>Germany</td>\n",
       "      <td>retail</td>\n",
       "      <td>Fashion &amp; Retail</td>\n",
       "      <td>elite media</td>\n",
       "    </tr>\n",
       "    <tr>\n",
       "      <th>28</th>\n",
       "      <td>29</td>\n",
       "      <td>Robin Zeng</td>\n",
       "      <td>44.8</td>\n",
       "      <td>53</td>\n",
       "      <td>Hong Kong</td>\n",
       "      <td>batteries</td>\n",
       "      <td>Automotive</td>\n",
       "      <td>elite media</td>\n",
       "    </tr>\n",
       "    <tr>\n",
       "      <th>29</th>\n",
       "      <td>30</td>\n",
       "      <td>MacKenzie Scott</td>\n",
       "      <td>43.6</td>\n",
       "      <td>51</td>\n",
       "      <td>United States</td>\n",
       "      <td>Amazon</td>\n",
       "      <td>Technology</td>\n",
       "      <td>elite media</td>\n",
       "    </tr>\n",
       "    <tr>\n",
       "      <th>30</th>\n",
       "      <td>31</td>\n",
       "      <td>Rodolphe Saadé &amp; family</td>\n",
       "      <td>41.4</td>\n",
       "      <td>52</td>\n",
       "      <td>France</td>\n",
       "      <td>shipping</td>\n",
       "      <td>Logistics</td>\n",
       "      <td>elite media</td>\n",
       "    </tr>\n",
       "    <tr>\n",
       "      <th>31</th>\n",
       "      <td>32</td>\n",
       "      <td>François Pinault &amp; family</td>\n",
       "      <td>40.4</td>\n",
       "      <td>85</td>\n",
       "      <td>France</td>\n",
       "      <td>luxury goods</td>\n",
       "      <td>Fashion &amp; Retail</td>\n",
       "      <td>elite media</td>\n",
       "    </tr>\n",
       "    <tr>\n",
       "      <th>32</th>\n",
       "      <td>33</td>\n",
       "      <td>Klaus-Michael Kuehne</td>\n",
       "      <td>37.3</td>\n",
       "      <td>84</td>\n",
       "      <td>Germany</td>\n",
       "      <td>shipping</td>\n",
       "      <td>Logistics</td>\n",
       "      <td>elite media</td>\n",
       "    </tr>\n",
       "    <tr>\n",
       "      <th>33</th>\n",
       "      <td>34</td>\n",
       "      <td>Ma Huateng</td>\n",
       "      <td>37.2</td>\n",
       "      <td>50</td>\n",
       "      <td>China</td>\n",
       "      <td>internet media</td>\n",
       "      <td>Technology</td>\n",
       "      <td>elite media</td>\n",
       "    </tr>\n",
       "    <tr>\n",
       "      <th>34</th>\n",
       "      <td>35</td>\n",
       "      <td>Beate Heister &amp; Karl Albrecht Jr. &amp; family</td>\n",
       "      <td>36.8</td>\n",
       "      <td>64</td>\n",
       "      <td>Germany</td>\n",
       "      <td>supermarkets</td>\n",
       "      <td>Fashion &amp; Retail</td>\n",
       "      <td>elite media</td>\n",
       "    </tr>\n",
       "    <tr>\n",
       "      <th>35</th>\n",
       "      <td>36</td>\n",
       "      <td>Giovanni Ferrero</td>\n",
       "      <td>36.2</td>\n",
       "      <td>57</td>\n",
       "      <td>Italy</td>\n",
       "      <td>Nutella, chocolates</td>\n",
       "      <td>Food &amp; Beverage</td>\n",
       "      <td>elite media</td>\n",
       "    </tr>\n",
       "    <tr>\n",
       "      <th>36</th>\n",
       "      <td>37</td>\n",
       "      <td>Li Ka-shing</td>\n",
       "      <td>34.8</td>\n",
       "      <td>93</td>\n",
       "      <td>Hong Kong</td>\n",
       "      <td>diversified</td>\n",
       "      <td>Diversified</td>\n",
       "      <td>elite media</td>\n",
       "    </tr>\n",
       "    <tr>\n",
       "      <th>37</th>\n",
       "      <td>37</td>\n",
       "      <td>Stephen Schwarzman</td>\n",
       "      <td>34.8</td>\n",
       "      <td>75</td>\n",
       "      <td>United States</td>\n",
       "      <td>investments</td>\n",
       "      <td>Finance &amp; Investments</td>\n",
       "      <td>elite media</td>\n",
       "    </tr>\n",
       "    <tr>\n",
       "      <th>38</th>\n",
       "      <td>39</td>\n",
       "      <td>Lee Shau Kee</td>\n",
       "      <td>32.6</td>\n",
       "      <td>94</td>\n",
       "      <td>Hong Kong</td>\n",
       "      <td>real estate</td>\n",
       "      <td>Real Estate</td>\n",
       "      <td>elite media</td>\n",
       "    </tr>\n",
       "    <tr>\n",
       "      <th>39</th>\n",
       "      <td>40</td>\n",
       "      <td>Len Blavatnik</td>\n",
       "      <td>32.5</td>\n",
       "      <td>64</td>\n",
       "      <td>United States</td>\n",
       "      <td>music, chemicals</td>\n",
       "      <td>Diversified</td>\n",
       "      <td>elite media</td>\n",
       "    </tr>\n",
       "    <tr>\n",
       "      <th>40</th>\n",
       "      <td>41</td>\n",
       "      <td>Jacqueline Mars</td>\n",
       "      <td>31.7</td>\n",
       "      <td>82</td>\n",
       "      <td>United States</td>\n",
       "      <td>candy, pet food</td>\n",
       "      <td>Food &amp; Beverage</td>\n",
       "      <td>elite media</td>\n",
       "    </tr>\n",
       "    <tr>\n",
       "      <th>41</th>\n",
       "      <td>41</td>\n",
       "      <td>John Mars</td>\n",
       "      <td>31.7</td>\n",
       "      <td>86</td>\n",
       "      <td>United States</td>\n",
       "      <td>candy, pet food</td>\n",
       "      <td>Food &amp; Beverage</td>\n",
       "      <td>elite media</td>\n",
       "    </tr>\n",
       "    <tr>\n",
       "      <th>42</th>\n",
       "      <td>43</td>\n",
       "      <td>Alain Wertheimer</td>\n",
       "      <td>31.2</td>\n",
       "      <td>73</td>\n",
       "      <td>France</td>\n",
       "      <td>Chanel</td>\n",
       "      <td>Fashion &amp; Retail</td>\n",
       "      <td>elite media</td>\n",
       "    </tr>\n",
       "    <tr>\n",
       "      <th>43</th>\n",
       "      <td>43</td>\n",
       "      <td>Gerard Wertheimer</td>\n",
       "      <td>31.2</td>\n",
       "      <td>71</td>\n",
       "      <td>France</td>\n",
       "      <td>Chanel</td>\n",
       "      <td>Fashion &amp; Retail</td>\n",
       "      <td>elite media</td>\n",
       "    </tr>\n",
       "    <tr>\n",
       "      <th>44</th>\n",
       "      <td>45</td>\n",
       "      <td>German Larrea Mota Velasco &amp; family</td>\n",
       "      <td>30.8</td>\n",
       "      <td>68</td>\n",
       "      <td>Mexico</td>\n",
       "      <td>mining</td>\n",
       "      <td>Metals &amp; Mining</td>\n",
       "      <td>elite media</td>\n",
       "    </tr>\n",
       "    <tr>\n",
       "      <th>45</th>\n",
       "      <td>46</td>\n",
       "      <td>Gina Rinehart</td>\n",
       "      <td>30.2</td>\n",
       "      <td>68</td>\n",
       "      <td>Australia</td>\n",
       "      <td>mining</td>\n",
       "      <td>Metals &amp; Mining</td>\n",
       "      <td>elite media</td>\n",
       "    </tr>\n",
       "    <tr>\n",
       "      <th>46</th>\n",
       "      <td>47</td>\n",
       "      <td>Shiv Nadar</td>\n",
       "      <td>28.7</td>\n",
       "      <td>76</td>\n",
       "      <td>India</td>\n",
       "      <td>software services</td>\n",
       "      <td>Technology</td>\n",
       "      <td>elite media</td>\n",
       "    </tr>\n",
       "    <tr>\n",
       "      <th>47</th>\n",
       "      <td>48</td>\n",
       "      <td>Jim Simons</td>\n",
       "      <td>28.6</td>\n",
       "      <td>83</td>\n",
       "      <td>United States</td>\n",
       "      <td>hedge funds</td>\n",
       "      <td>Finance &amp; Investments</td>\n",
       "      <td>elite media</td>\n",
       "    </tr>\n",
       "    <tr>\n",
       "      <th>48</th>\n",
       "      <td>49</td>\n",
       "      <td>He Xiangjian</td>\n",
       "      <td>28.3</td>\n",
       "      <td>79</td>\n",
       "      <td>China</td>\n",
       "      <td>home appliances</td>\n",
       "      <td>Manufacturing</td>\n",
       "      <td>elite media</td>\n",
       "    </tr>\n",
       "    <tr>\n",
       "      <th>49</th>\n",
       "      <td>50</td>\n",
       "      <td>Miriam Adelson</td>\n",
       "      <td>27.5</td>\n",
       "      <td>76</td>\n",
       "      <td>United States</td>\n",
       "      <td>casinos</td>\n",
       "      <td>Gambling &amp; Casinos</td>\n",
       "      <td>elite media</td>\n",
       "    </tr>\n",
       "  </tbody>\n",
       "</table>\n",
       "</div>"
      ],
      "text/plain": [
       "    rank                                         name  networth  age  \\\n",
       "0      1                                   Elon Musk      219.0   50   \n",
       "1      2                                  Jeff Bezos      171.0   58   \n",
       "2      3                    Bernard Arnault & family      158.0   73   \n",
       "3      4                                  Bill Gates      129.0   66   \n",
       "4      5                              Warren Buffett      118.0   91   \n",
       "5      6                                  Larry Page      111.0   49   \n",
       "6      7                                 Sergey Brin      107.0   48   \n",
       "7      8                               Larry Ellison      106.0   77   \n",
       "8      9                               Steve Ballmer       91.4   66   \n",
       "9     10                               Mukesh Ambani       90.7   64   \n",
       "10    11                       Gautam Adani & family       90.0   59   \n",
       "11    12                           Michael Bloomberg       82.0   80   \n",
       "12    13                   Carlos Slim Helu & family       81.2   82   \n",
       "13    14       Francoise Bettencourt Meyers & family       74.8   68   \n",
       "14    15                             Mark Zuckerberg       67.3   37   \n",
       "15    16                                  Jim Walton       66.2   73   \n",
       "16    17                              Zhong Shanshan       65.7   67   \n",
       "17    18                                Alice Walton       65.3   72   \n",
       "18    19                                  Rob Walton       65.0   77   \n",
       "19    19                              Changpeng Zhao       65.0   44   \n",
       "20    21                                Charles Koch       60.0   86   \n",
       "21    21                         Julia Koch & family       60.0   59   \n",
       "22    23                              Amancio Ortega       59.6   86   \n",
       "23    24                                Michael Dell       55.1   57   \n",
       "24    25                                Zhang Yiming       50.0   38   \n",
       "25    26                      David Thomson & family       49.2   64   \n",
       "26    27                        Phil Knight & family       47.3   84   \n",
       "27    28                              Dieter Schwarz       47.1   82   \n",
       "28    29                                  Robin Zeng       44.8   53   \n",
       "29    30                             MacKenzie Scott       43.6   51   \n",
       "30    31                     Rodolphe Saadé & family       41.4   52   \n",
       "31    32                   François Pinault & family       40.4   85   \n",
       "32    33                        Klaus-Michael Kuehne       37.3   84   \n",
       "33    34                                  Ma Huateng       37.2   50   \n",
       "34    35  Beate Heister & Karl Albrecht Jr. & family       36.8   64   \n",
       "35    36                            Giovanni Ferrero       36.2   57   \n",
       "36    37                                 Li Ka-shing       34.8   93   \n",
       "37    37                          Stephen Schwarzman       34.8   75   \n",
       "38    39                                Lee Shau Kee       32.6   94   \n",
       "39    40                               Len Blavatnik       32.5   64   \n",
       "40    41                             Jacqueline Mars       31.7   82   \n",
       "41    41                                   John Mars       31.7   86   \n",
       "42    43                            Alain Wertheimer       31.2   73   \n",
       "43    43                           Gerard Wertheimer       31.2   71   \n",
       "44    45         German Larrea Mota Velasco & family       30.8   68   \n",
       "45    46                               Gina Rinehart       30.2   68   \n",
       "46    47                                  Shiv Nadar       28.7   76   \n",
       "47    48                                  Jim Simons       28.6   83   \n",
       "48    49                                He Xiangjian       28.3   79   \n",
       "49    50                              Miriam Adelson       27.5   76   \n",
       "\n",
       "          country                       source                industry  \\\n",
       "0   United States                Tesla, SpaceX             Automotive    \n",
       "1   United States                       Amazon             Technology    \n",
       "2          France                         LVMH       Fashion & Retail    \n",
       "3   United States                    Microsoft             Technology    \n",
       "4   United States           Berkshire Hathaway  Finance & Investments    \n",
       "5   United States                       Google             Technology    \n",
       "6   United States                       Google             Technology    \n",
       "7   United States                     software             Technology    \n",
       "8   United States                    Microsoft             Technology    \n",
       "9           India                  diversified            Diversified    \n",
       "10          India  infrastructure, commodities            Diversified    \n",
       "11  United States                 Bloomberg LP  Media & Entertainment    \n",
       "12         Mexico                      telecom                Telecom    \n",
       "13         France                      L'Oréal       Fashion & Retail    \n",
       "14  United States                     Facebook             Technology    \n",
       "15  United States                      Walmart       Fashion & Retail    \n",
       "16          China   beverages, pharmaceuticals        Food & Beverage    \n",
       "17  United States                      Walmart       Fashion & Retail    \n",
       "18  United States                      Walmart       Fashion & Retail    \n",
       "19         Canada      cryptocurrency exchange  Finance & Investments    \n",
       "20  United States              Koch Industries            Diversified    \n",
       "21  United States              Koch Industries            Diversified    \n",
       "22          Spain                         Zara       Fashion & Retail    \n",
       "23  United States               Dell computers             Technology    \n",
       "24          China                       TikTok  Media & Entertainment    \n",
       "25         Canada                        media  Media & Entertainment    \n",
       "26  United States                         Nike       Fashion & Retail    \n",
       "27        Germany                       retail       Fashion & Retail    \n",
       "28      Hong Kong                    batteries             Automotive    \n",
       "29  United States                       Amazon             Technology    \n",
       "30         France                     shipping              Logistics    \n",
       "31         France                 luxury goods       Fashion & Retail    \n",
       "32        Germany                     shipping              Logistics    \n",
       "33          China               internet media             Technology    \n",
       "34        Germany                 supermarkets       Fashion & Retail    \n",
       "35          Italy          Nutella, chocolates        Food & Beverage    \n",
       "36      Hong Kong                  diversified            Diversified    \n",
       "37  United States                  investments  Finance & Investments    \n",
       "38      Hong Kong                  real estate            Real Estate    \n",
       "39  United States             music, chemicals            Diversified    \n",
       "40  United States              candy, pet food        Food & Beverage    \n",
       "41  United States              candy, pet food        Food & Beverage    \n",
       "42         France                       Chanel       Fashion & Retail    \n",
       "43         France                       Chanel       Fashion & Retail    \n",
       "44         Mexico                       mining        Metals & Mining    \n",
       "45      Australia                       mining        Metals & Mining    \n",
       "46          India            software services             Technology    \n",
       "47  United States                  hedge funds  Finance & Investments    \n",
       "48          China              home appliances          Manufacturing    \n",
       "49  United States                      casinos     Gambling & Casinos    \n",
       "\n",
       "    faixa monetária  \n",
       "0   elite altissima  \n",
       "1   elite altissima  \n",
       "2   elite altissima  \n",
       "3   elite altissima  \n",
       "4   elite altissima  \n",
       "5   elite altissima  \n",
       "6   elite altissima  \n",
       "7   elite altissima  \n",
       "8        elite alta  \n",
       "9        elite alta  \n",
       "10       elite alta  \n",
       "11       elite alta  \n",
       "12       elite alta  \n",
       "13       elite alta  \n",
       "14       elite alta  \n",
       "15       elite alta  \n",
       "16       elite alta  \n",
       "17       elite alta  \n",
       "18       elite alta  \n",
       "19       elite alta  \n",
       "20       elite alta  \n",
       "21       elite alta  \n",
       "22       elite alta  \n",
       "23       elite alta  \n",
       "24       elite alta  \n",
       "25      elite media  \n",
       "26      elite media  \n",
       "27      elite media  \n",
       "28      elite media  \n",
       "29      elite media  \n",
       "30      elite media  \n",
       "31      elite media  \n",
       "32      elite media  \n",
       "33      elite media  \n",
       "34      elite media  \n",
       "35      elite media  \n",
       "36      elite media  \n",
       "37      elite media  \n",
       "38      elite media  \n",
       "39      elite media  \n",
       "40      elite media  \n",
       "41      elite media  \n",
       "42      elite media  \n",
       "43      elite media  \n",
       "44      elite media  \n",
       "45      elite media  \n",
       "46      elite media  \n",
       "47      elite media  \n",
       "48      elite media  \n",
       "49      elite media  "
      ]
     },
     "execution_count": 23,
     "metadata": {},
     "output_type": "execute_result"
    }
   ],
   "source": [
    "df[0: 50]"
   ]
  },
  {
   "cell_type": "code",
   "execution_count": 24,
   "id": "1e106dfa",
   "metadata": {
    "scrolled": true
   },
   "outputs": [
    {
     "data": {
      "text/plain": [
       "<AxesSubplot:xlabel='country', ylabel='networth'>"
      ]
     },
     "execution_count": 24,
     "metadata": {},
     "output_type": "execute_result"
    },
    {
     "data": {
      "image/png": "[encoded data removed]",
      "text/plain": [
       "<Figure size 432x288 with 1 Axes>"
      ]
     },
     "metadata": {
      "needs_background": "light"
     },
     "output_type": "display_data"
    }
   ],
   "source": [
    "sns.barplot(x=\"country\", y = \"networth\", data=df)"
   ]
  },
  {
   "cell_type": "code",
   "execution_count": 25,
   "id": "fc07c2a1",
   "metadata": {},
   "outputs": [
    {
     "data": {
      "text/plain": [
       "United States    719\n",
       "China            515\n",
       "India            161\n",
       "Germany          130\n",
       "Russia            81\n",
       "Hong Kong         67\n",
       "Canada            64\n",
       "Brazil            60\n",
       "Name: country, dtype: int64"
      ]
     },
     "execution_count": 25,
     "metadata": {},
     "output_type": "execute_result"
    }
   ],
   "source": [
    "df[\"country\"].value_counts()[0:8]"
   ]
  },
  {
   "cell_type": "code",
   "execution_count": 26,
   "id": "1cb4cc49",
   "metadata": {},
   "outputs": [
    {
     "data": {
      "image/png": "[encoded data removed]",
      "text/plain": [
       "<Figure size 1152x576 with 1 Axes>"
      ]
     },
     "metadata": {
      "needs_background": "light"
     },
     "output_type": "display_data"
    }
   ],
   "source": [
    "\n",
    "plt.figure(figsize= (16, 8))\n",
    "\n",
    "sns.countplot(x=\"country\", hue=\"faixa monetária\", palette=\"rainbow\", edgecolor= \"black\", alpha= 0.9, order= df[\"country\"].value_counts().index[0: 8], data=df, zorder= 3)\n",
    "\n",
    "plt.grid(True, zorder= 0)\n"
   ]
  },
  {
   "cell_type": "code",
   "execution_count": 27,
   "id": "3dc03ad4",
   "metadata": {},
   "outputs": [],
   "source": [
    "df_filtrado=df[df[\"faixa monetária\"] != \"elite baixa\"]"
   ]
  },
  {
   "cell_type": "code",
   "execution_count": 28,
   "id": "86db0625",
   "metadata": {},
   "outputs": [
    {
     "data": {
      "image/png": "[encoded data removed]",
      "text/plain": [
       "<Figure size 1152x576 with 1 Axes>"
      ]
     },
     "metadata": {
      "needs_background": "light"
     },
     "output_type": "display_data"
    }
   ],
   "source": [
    "plt.figure(figsize= (16, 8))\n",
    "\n",
    "sns.countplot(x=\"country\", hue=\"faixa monetária\", palette=\"rainbow\", edgecolor=\"black\", alpha= 0.9, order= df_filtrado[\"country\"].value_counts().index[0: 8], data=df_filtrado, zorder= 3)\n",
    "\n",
    "plt.grid(True, zorder= 0)\n"
   ]
  },
  {
   "cell_type": "code",
   "execution_count": 29,
   "id": "1ca1ac31",
   "metadata": {},
   "outputs": [],
   "source": [
    "lista =[]\n",
    "\n",
    "for x in df[\"age\"]:\n",
    "    \n",
    "    if x >= 80:\n",
    "        lista.append(\"idoso avançado\")\n",
    "    \n",
    "    elif x >= 60:\n",
    "        lista.append(\"idoso\")\n",
    "        \n",
    "    elif x >= 30:\n",
    "        lista.append(\"adulto\")\n",
    "        \n",
    "    elif x >= 20 :\n",
    "        lista.append(\"jovem adulto\")\n",
    "    \n",
    "    else:\n",
    "        lista.append(\"jovem\") \n",
    "\n",
    "        \n",
    "df[\"faixa etária\"]=lista"
   ]
  },
  {
   "cell_type": "code",
   "execution_count": 30,
   "id": "8d371006",
   "metadata": {},
   "outputs": [
    {
     "data": {
      "text/plain": [
       "idoso             1279\n",
       "adulto             959\n",
       "idoso avançado     350\n",
       "jovem adulto        11\n",
       "jovem                1\n",
       "Name: faixa etária, dtype: int64"
      ]
     },
     "execution_count": 30,
     "metadata": {},
     "output_type": "execute_result"
    }
   ],
   "source": [
    "df['faixa etária'].value_counts()"
   ]
  },
  {
   "cell_type": "code",
   "execution_count": 31,
   "id": "025bf4f8",
   "metadata": {
    "scrolled": true
   },
   "outputs": [
    {
     "data": {
      "text/html": [
       "<div>\n",
       "<style scoped>\n",
       "    .dataframe tbody tr th:only-of-type {\n",
       "        vertical-align: middle;\n",
       "    }\n",
       "\n",
       "    .dataframe tbody tr th {\n",
       "        vertical-align: top;\n",
       "    }\n",
       "\n",
       "    .dataframe thead th {\n",
       "        text-align: right;\n",
       "    }\n",
       "</style>\n",
       "<table border=\"1\" class=\"dataframe\">\n",
       "  <thead>\n",
       "    <tr style=\"text-align: right;\">\n",
       "      <th></th>\n",
       "      <th>rank</th>\n",
       "      <th>name</th>\n",
       "      <th>networth</th>\n",
       "      <th>age</th>\n",
       "      <th>country</th>\n",
       "      <th>source</th>\n",
       "      <th>industry</th>\n",
       "      <th>faixa monetária</th>\n",
       "      <th>faixa etária</th>\n",
       "    </tr>\n",
       "  </thead>\n",
       "  <tbody>\n",
       "    <tr>\n",
       "      <th>1311</th>\n",
       "      <td>1292</td>\n",
       "      <td>Kevin David Lehmann</td>\n",
       "      <td>2.4</td>\n",
       "      <td>19</td>\n",
       "      <td>Germany</td>\n",
       "      <td>drugstores</td>\n",
       "      <td>Fashion &amp; Retail</td>\n",
       "      <td>elite baixa</td>\n",
       "      <td>jovem</td>\n",
       "    </tr>\n",
       "  </tbody>\n",
       "</table>\n",
       "</div>"
      ],
      "text/plain": [
       "      rank                  name  networth  age  country      source  \\\n",
       "1311  1292  Kevin David Lehmann        2.4   19  Germany  drugstores   \n",
       "\n",
       "               industry faixa monetária faixa etária  \n",
       "1311  Fashion & Retail      elite baixa        jovem  "
      ]
     },
     "execution_count": 31,
     "metadata": {},
     "output_type": "execute_result"
    }
   ],
   "source": [
    "df[df[\"faixa etária\"]==\"jovem\"]"
   ]
  },
  {
   "cell_type": "code",
   "execution_count": 32,
   "id": "fd641f18",
   "metadata": {},
   "outputs": [
    {
     "data": {
      "text/plain": [
       "<AxesSubplot:xlabel='age', ylabel='Count'>"
      ]
     },
     "execution_count": 32,
     "metadata": {},
     "output_type": "execute_result"
    },
    {
     "data": {
      "image/png": "[encoded data removed]",
      "text/plain": [
       "<Figure size 432x288 with 1 Axes>"
      ]
     },
     "metadata": {
      "needs_background": "light"
     },
     "output_type": "display_data"
    }
   ],
   "source": [
    "sns.histplot(x= \"age\", data=df )"
   ]
  },
  {
   "cell_type": "code",
   "execution_count": 33,
   "id": "7174b308",
   "metadata": {},
   "outputs": [
    {
     "data": {
      "image/png": "[encoded data removed]",
      "text/plain": [
       "<Figure size 1152x576 with 1 Axes>"
      ]
     },
     "metadata": {
      "needs_background": "light"
     },
     "output_type": "display_data"
    }
   ],
   "source": [
    "plt.figure(figsize= (16, 8))\n",
    "\n",
    "\n",
    "sns.countplot(x=\"country\", hue= \"faixa etária\", palette=\"rainbow\", edgecolor= \"black\", alpha= 0.9, order= df[\"country\"].value_counts().index[0: 8], data=df, zorder= 3)\n",
    "\n",
    "plt.grid(True, zorder= 0)\n"
   ]
  },
  {
   "cell_type": "code",
   "execution_count": 34,
   "id": "b8787174",
   "metadata": {},
   "outputs": [
    {
     "data": {
      "text/plain": [
       "Finance & Investments     14.846154\n",
       "Technology                12.653846\n",
       "Manufacturing             12.384615\n",
       "Fashion & Retail           9.461538\n",
       "Healthcare                 8.153846\n",
       "Food & Beverage            7.730769\n",
       "Name: industry, dtype: float64"
      ]
     },
     "execution_count": 34,
     "metadata": {},
     "output_type": "execute_result"
    }
   ],
   "source": [
    "(df[\"industry\"].value_counts(normalize=True)[0:6])*100"
   ]
  },
  {
   "cell_type": "code",
   "execution_count": 45,
   "id": "e7209a30",
   "metadata": {
    "scrolled": false
   },
   "outputs": [
    {
     "data": {
      "image/png": "[encoded data removed]",
      "text/plain": [
       "<Figure size 1152x720 with 1 Axes>"
      ]
     },
     "metadata": {
      "needs_background": "light"
     },
     "output_type": "display_data"
    }
   ],
   "source": [
    "plt.figure(figsize= (16, 10))\n",
    "\n",
    "\n",
    "sns.countplot(x=\"country\", hue=\"industry\", palette=\"rainbow\", edgecolor= \"black\", alpha= 0.9, hue_order= df[\"industry\"].value_counts().index[0: 6],order= df[\"country\"].value_counts().index[0: 8] ,  data=df, zorder= 3)\n",
    "\n",
    "plt.title(\"Polo de industria X paises\")\n",
    "plt.xlabel(\"paises\")\n",
    "plt.ylabel(\"num. industrias\")\n",
    "plt.grid(True, zorder= 0)\n"
   ]
  },
  {
   "cell_type": "code",
   "execution_count": 36,
   "id": "ef6f3d7e",
   "metadata": {
    "scrolled": false
   },
   "outputs": [
    {
     "data": {
      "image/png": "[encoded data removed]",
      "text/plain": [
       "<Figure size 1152x576 with 1 Axes>"
      ]
     },
     "metadata": {
      "needs_background": "light"
     },
     "output_type": "display_data"
    }
   ],
   "source": [
    "plt.figure(figsize= (16, 8))\n",
    "\n",
    "sns.countplot(x=\"industry\", hue= \"faixa monetária\", palette=\"rainbow\", edgecolor= \"black\", alpha= 0.9, order= df[\"industry\"].value_counts().index[0: 8], data=df, zorder= 3)\n",
    "\n",
    "plt.grid(True, zorder= 0)\n"
   ]
  },
  {
   "cell_type": "code",
   "execution_count": 37,
   "id": "8fbb6cee",
   "metadata": {},
   "outputs": [
    {
     "data": {
      "image/png": "[encoded data removed]",
      "text/plain": [
       "<Figure size 1152x576 with 1 Axes>"
      ]
     },
     "metadata": {
      "needs_background": "light"
     },
     "output_type": "display_data"
    }
   ],
   "source": [
    "plt.figure(figsize= (16, 8))\n",
    "\n",
    "sns.countplot(x=\"industry\", hue= \"faixa monetária\", palette=\"rainbow\", edgecolor= \"black\", alpha= 0.9, order= df_filtrado[\"industry\"].value_counts().index[0: 8], data=df_filtrado, zorder= 3)\n",
    "\n",
    "plt.grid(True, zorder= 0)\n"
   ]
  },
  {
   "cell_type": "code",
   "execution_count": 38,
   "id": "19f10cfb",
   "metadata": {},
   "outputs": [
    {
     "data": {
      "text/plain": [
       "<AxesSubplot:xlabel='networth', ylabel='age'>"
      ]
     },
     "execution_count": 38,
     "metadata": {},
     "output_type": "execute_result"
    },
    {
     "data": {
      "image/png": "[encoded data removed]",
      "text/plain": [
       "<Figure size 432x288 with 1 Axes>"
      ]
     },
     "metadata": {
      "needs_background": "light"
     },
     "output_type": "display_data"
    }
   ],
   "source": [
    "sns.boxplot(x=\"networth\" , y=\"age\", data=df)\n"
   ]
  },
  {
   "cell_type": "code",
   "execution_count": 39,
   "id": "750451b5",
   "metadata": {
    "scrolled": true
   },
   "outputs": [
    {
     "data": {
      "text/plain": [
       "real estate        148\n",
       "investments         93\n",
       "pharmaceuticals     91\n",
       "diversified         83\n",
       "software            57\n",
       "hedge funds         42\n",
       "private equity      37\n",
       "Name: source, dtype: int64"
      ]
     },
     "execution_count": 39,
     "metadata": {},
     "output_type": "execute_result"
    }
   ],
   "source": [
    "df[\"source\"].value_counts()[0:7]"
   ]
  },
  {
   "cell_type": "code",
   "execution_count": 40,
   "id": "d401482f",
   "metadata": {},
   "outputs": [
    {
     "data": {
      "text/plain": [
       "<AxesSubplot:xlabel='source', ylabel='count'>"
      ]
     },
     "execution_count": 40,
     "metadata": {},
     "output_type": "execute_result"
    },
    {
     "data": {
      "image/png": "[encoded data removed]",
      "text/plain": [
       "<Figure size 1152x576 with 1 Axes>"
      ]
     },
     "metadata": {
      "needs_background": "light"
     },
     "output_type": "display_data"
    }
   ],
   "source": [
    "plt.figure(figsize=(16, 8))\n",
    "\n",
    "sns.countplot(x=\"source\", hue= \"faixa monetária\", palette=\"rainbow\", edgecolor= \"black\", alpha= 0.9, order= df[\"source\"].value_counts().index[0: 7], data=df, zorder= 3)\n"
   ]
  },
  {
   "cell_type": "code",
   "execution_count": 41,
   "id": "3c40d9f7",
   "metadata": {},
   "outputs": [
    {
     "data": {
      "text/plain": [
       "<AxesSubplot:xlabel='source', ylabel='count'>"
      ]
     },
     "execution_count": 41,
     "metadata": {},
     "output_type": "execute_result"
    },
    {
     "data": {
      "image/png": "[encoded data removed]",
      "text/plain": [
       "<Figure size 1152x576 with 1 Axes>"
      ]
     },
     "metadata": {
      "needs_background": "light"
     },
     "output_type": "display_data"
    }
   ],
   "source": [
    "plt.figure(figsize=(16, 8))\n",
    "\n",
    "sns.countplot(x=\"source\", hue= \"faixa monetária\", palette=\"rainbow\", edgecolor= \"black\", alpha= 0.9, order= df_filtrado[\"source\"].value_counts().index[0: 7], data=df_filtrado, zorder= 3)\n"
   ]
  },
  {
   "cell_type": "code",
   "execution_count": 42,
   "id": "8556647b",
   "metadata": {},
   "outputs": [
    {
     "data": {
      "text/plain": [
       "<AxesSubplot:xlabel='country', ylabel='age'>"
      ]
     },
     "execution_count": 42,
     "metadata": {},
     "output_type": "execute_result"
    },
    {
     "data": {
      "image/png": "[encoded data removed]",
      "text/plain": [
       "<Figure size 1152x576 with 1 Axes>"
      ]
     },
     "metadata": {
      "needs_background": "light"
     },
     "output_type": "display_data"
    }
   ],
   "source": [
    "plt.figure(figsize=(16, 8))\n",
    "sns.boxplot(x=\"country\" ,order= df[\"country\"].value_counts().index[0:8], y=\"age\", data=df, palette=\"rainbow\")\n"
   ]
  }
 ],
 "metadata": {
  "kernelspec": {
   "display_name": "Python 3 (ipykernel)",
   "language": "python",
   "name": "python3"
  },
  "language_info": {
   "codemirror_mode": {
    "name": "ipython",
    "version": 3
   },
   "file_extension": ".py",
   "mimetype": "text/x-python",
   "name": "python",
   "nbconvert_exporter": "python",
   "pygments_lexer": "ipython3",
   "version": "3.9.12"
  }
 },
 "nbformat": 4,
 "nbformat_minor": 5
}
